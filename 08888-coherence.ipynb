{
 "cells": [
  {
   "cell_type": "code",
   "execution_count": null,
   "metadata": {},
   "outputs": [],
   "source": [
    "#calculate coherence\n",
    "#not used in the final report"
   ]
  },
  {
   "cell_type": "code",
   "execution_count": null,
   "metadata": {},
   "outputs": [],
   "source": [
    "import database.neuralynx_extract.combinato_tools as ct\n",
    "import database.neuralynx_extract.nlxio as nlxio\n",
    "\n",
    "import preprocessing.data_preprocessing.refractor_utils as ru\n",
    "import sys\n",
    "\n",
    "import matplotlib.pyplot as plt\n",
    "import datajoint as dj\n",
    "import numpy as np\n",
    "import neurodsp.filt\n",
    "import scipy\n",
    "from pathlib import Path\n",
    "\n",
    "# Local application imports \n",
    "from database.db_setup import *\n",
    "import preprocessing.data_preprocessing.binning as binning\n",
    "import preprocessing.data_preprocessing.create_vectors_from_time_points as create\n",
    "\n",
    "import helper_func.helper_func as hf"
   ]
  },
  {
   "cell_type": "code",
   "execution_count": 4,
   "metadata": {},
   "outputs": [
    {
     "name": "stdout",
     "output_type": "stream",
     "text": [
      "     index  patient_id  session_nr  stim_index position  stim_id  \\\n",
      "0     1344          46           1           0      pre       19   \n",
      "1     1345          46           1           1      pre        0   \n",
      "2     1346          46           1           2      pre       13   \n",
      "3     1347          46           1           3      pre       17   \n",
      "4     1348          46           1           4      pre        7   \n",
      "..     ...         ...         ...         ...      ...      ...   \n",
      "835   2179          46           1         835     post       19   \n",
      "836   2180          46           1         836     post       22   \n",
      "837   2181          46           1         837     post       11   \n",
      "838   2182          46           1         838     post        2   \n",
      "839   2183          46           1         839     post       30   \n",
      "\n",
      "            filename        stim_name  is_500_days paradigm          time  \n",
      "0          paul2.jpg             Paul            1      scr  2.186932e+07  \n",
      "1        alison1.jpg           Alison            1      scr  2.187933e+07  \n",
      "2      name-paul.jpg             Paul            1     nscr  2.188088e+07  \n",
      "3     name-vance.jpg            Vance            1     nscr  2.188907e+07  \n",
      "4      mckenzie1.jpg         McKenzie            1      scr  2.189104e+07  \n",
      "..               ...              ...          ...      ...           ...  \n",
      "835        paul2.jpg             Paul            1      scr  3.075830e+07  \n",
      "836      rachel2.jpg           Rachel            1      scr  3.076002e+07  \n",
      "837  name-alison.jpg           Alison            1     nscr  3.076187e+07  \n",
      "838       beauty.jpg  American Beauty            0      scr  3.076374e+07  \n",
      "839         swan.jpg       Black Swan            0      scr  3.076556e+07  \n",
      "\n",
      "[840 rows x 11 columns]\n"
     ]
    }
   ],
   "source": [
    "patient_id = 46\n",
    "session_nr = 1\n",
    "\n",
    "#top_dir = '/media/alado/TOSHIBA_EXT/thesis/output'\n",
    "top_dir = '/home/anastasia/epiphyte/anastasia/output'\n",
    "folder = f'05-Hilbert_transform_{patient_id}'\n",
    "filtering_type = ['theta', 'slow_gamma', 'fast_gamma']\n",
    "\n",
    "fs = 32768\n",
    "#The resulting sample rate is up / down times the original sample rate.\n",
    "up = 1\n",
    "down=32\n",
    "fs_downs = (up/down)*fs\n",
    "dt = 1/fs_downs      # sampling period/time/interval or time resolution, often denoted as T\n",
    "\n",
    "times = np.linspace(-500, 1000, num = 1501)\n",
    "time_zero_idx = np.where(times == hf.find_nearest(times, 0))[0][0]\n",
    "\n",
    "df_patient_info = pd.read_csv(f'{top_dir}/{patient_id}_channel_info.csv')\n",
    "dict_replace = {'LA1':'LAA1', 'LA2':'LAA2', 'LA3':'LAA3', 'LA4':'LAA4', 'LA5':'LAA5', 'LA6':'LAA6', 'LA7':'LAA7', 'LA8':'LAA8',\n",
    "               'RA1':'RAA1', 'RA2':'RAA2', 'RA3':'RAA3', 'RA4':'RAA4', 'RA5':'RAA5', 'RA6':'RAA6', 'RA7':'RAA7', 'RA8':'RAA8',}\n",
    "df_patient_info_new = df_patient_info.replace(dict_replace)\n",
    "df_stim_info = pd.read_csv(f'{top_dir}/{patient_id}_df_stim_info.csv')\n",
    "all_stim = np.unique(df_stim_info['stim_id'])\n",
    "all_stim_name = np.unique(df_stim_info['stim_name'])\n",
    "all_brain_areas = np.unique(df_patient_info['recording_site'])\n",
    "#brain_areas = ['LAA', 'LAH', 'LEC','LMH', 'LPHC', 'RAA', 'RAH', 'REC', 'RMH', 'RPHC']\n",
    "brain_areas = np.unique(df_patient_info['brain_area'])\n",
    "\n",
    "n_channels = 80\n",
    "n_stim_present = 10\n",
    "n_stim = 42"
   ]
  },
  {
   "cell_type": "code",
   "execution_count": 5,
   "metadata": {},
   "outputs": [
    {
     "name": "stdout",
     "output_type": "stream",
     "text": [
      "Load downsampled gamma-filtered data file\n",
      "Load downsampled gamma-filtered data file\n"
     ]
    }
   ],
   "source": [
    "my_file = Path(f'{top_dir}/anastasia/output/01-filtered_and_downsampled/{patient_id}_downsampled_data_gamma.npy')\n",
    "if my_file.is_file():\n",
    "    print('Load downsampled gamma-filtered data file')\n",
    "    downsampled_data_gamma_patient = np.load(my_file)\n",
    "    timestamps_downs = np.load(f'{top_dir}/anastasia/output/01-filtered_and_downsampled/downsampled/{patient_id}_timestamps_downs.npy')\n",
    "    \n",
    "else:\n",
    "    print('You need to create downsampled gamma-filtered data file')\n",
    "    \n",
    "my_file = Path(f'{top_dir}/anastasia/output/01-filtered_and_downsampled/downsampled/{patient_id}_downsampled_data.npy')\n",
    "if my_file.is_file():\n",
    "    print('Load downsampled gamma-filtered data file')\n",
    "    downsampled_data_broadband_patient = np.load(my_file)\n",
    "    timestamps_downs_broadband = np.load(f'{top_dir}/anastasia/output/01-filtered_and_downsampled/downsampled/{patient_id}_timestamps_downs.npy')\n",
    "    \n",
    "else:\n",
    "    print('You need to create downsampled broadband signal data file')"
   ]
  },
  {
   "cell_type": "code",
   "execution_count": null,
   "metadata": {},
   "outputs": [],
   "source": []
  },
  {
   "cell_type": "code",
   "execution_count": 7,
   "metadata": {},
   "outputs": [
    {
     "ename": "IndexError",
     "evalue": "tuple index out of range",
     "output_type": "error",
     "traceback": [
      "\u001b[0;31m---------------------------------------------------------------------------\u001b[0m",
      "\u001b[0;31mIndexError\u001b[0m                                Traceback (most recent call last)",
      "\u001b[0;32m<ipython-input-7-8e3b7a9636ba>\u001b[0m in \u001b[0;36m<module>\u001b[0;34m\u001b[0m\n\u001b[1;32m     34\u001b[0m \u001b[0;34m\u001b[0m\u001b[0m\n\u001b[1;32m     35\u001b[0m     \u001b[0;31m# Compute the Fourier transforms\u001b[0m\u001b[0;34m\u001b[0m\u001b[0;34m\u001b[0m\u001b[0;34m\u001b[0m\u001b[0m\n\u001b[0;32m---> 36\u001b[0;31m     \u001b[0mxf\u001b[0m \u001b[0;34m=\u001b[0m \u001b[0mnp\u001b[0m\u001b[0;34m.\u001b[0m\u001b[0marray\u001b[0m\u001b[0;34m(\u001b[0m\u001b[0;34m[\u001b[0m\u001b[0mscipy\u001b[0m\u001b[0;34m.\u001b[0m\u001b[0mfft\u001b[0m\u001b[0;34m.\u001b[0m\u001b[0mrfft\u001b[0m\u001b[0;34m(\u001b[0m\u001b[0mx\u001b[0m\u001b[0;34m)\u001b[0m \u001b[0;32mfor\u001b[0m \u001b[0mx\u001b[0m \u001b[0;32min\u001b[0m \u001b[0mpre_epoch\u001b[0m\u001b[0;34m]\u001b[0m\u001b[0;34m)\u001b[0m \u001b[0;31m# ... for each trial in E1\u001b[0m\u001b[0;34m\u001b[0m\u001b[0;34m\u001b[0m\u001b[0m\n\u001b[0m\u001b[1;32m     37\u001b[0m     \u001b[0myf\u001b[0m \u001b[0;34m=\u001b[0m \u001b[0mnp\u001b[0m\u001b[0;34m.\u001b[0m\u001b[0marray\u001b[0m\u001b[0;34m(\u001b[0m\u001b[0;34m[\u001b[0m\u001b[0mscipy\u001b[0m\u001b[0;34m.\u001b[0m\u001b[0mfft\u001b[0m\u001b[0;34m.\u001b[0m\u001b[0mrfft\u001b[0m\u001b[0;34m(\u001b[0m\u001b[0my\u001b[0m\u001b[0;34m)\u001b[0m \u001b[0;32mfor\u001b[0m \u001b[0my\u001b[0m \u001b[0;32min\u001b[0m \u001b[0mpost_epoch\u001b[0m\u001b[0;34m]\u001b[0m\u001b[0;34m)\u001b[0m \u001b[0;31m# ... and each trial in E2\u001b[0m\u001b[0;34m\u001b[0m\u001b[0;34m\u001b[0m\u001b[0m\n\u001b[1;32m     38\u001b[0m \u001b[0;34m\u001b[0m\u001b[0m\n",
      "\u001b[0;32m<ipython-input-7-8e3b7a9636ba>\u001b[0m in \u001b[0;36m<listcomp>\u001b[0;34m(.0)\u001b[0m\n\u001b[1;32m     34\u001b[0m \u001b[0;34m\u001b[0m\u001b[0m\n\u001b[1;32m     35\u001b[0m     \u001b[0;31m# Compute the Fourier transforms\u001b[0m\u001b[0;34m\u001b[0m\u001b[0;34m\u001b[0m\u001b[0;34m\u001b[0m\u001b[0m\n\u001b[0;32m---> 36\u001b[0;31m     \u001b[0mxf\u001b[0m \u001b[0;34m=\u001b[0m \u001b[0mnp\u001b[0m\u001b[0;34m.\u001b[0m\u001b[0marray\u001b[0m\u001b[0;34m(\u001b[0m\u001b[0;34m[\u001b[0m\u001b[0mscipy\u001b[0m\u001b[0;34m.\u001b[0m\u001b[0mfft\u001b[0m\u001b[0;34m.\u001b[0m\u001b[0mrfft\u001b[0m\u001b[0;34m(\u001b[0m\u001b[0mx\u001b[0m\u001b[0;34m)\u001b[0m \u001b[0;32mfor\u001b[0m \u001b[0mx\u001b[0m \u001b[0;32min\u001b[0m \u001b[0mpre_epoch\u001b[0m\u001b[0;34m]\u001b[0m\u001b[0;34m)\u001b[0m \u001b[0;31m# ... for each trial in E1\u001b[0m\u001b[0;34m\u001b[0m\u001b[0;34m\u001b[0m\u001b[0m\n\u001b[0m\u001b[1;32m     37\u001b[0m     \u001b[0myf\u001b[0m \u001b[0;34m=\u001b[0m \u001b[0mnp\u001b[0m\u001b[0;34m.\u001b[0m\u001b[0marray\u001b[0m\u001b[0;34m(\u001b[0m\u001b[0;34m[\u001b[0m\u001b[0mscipy\u001b[0m\u001b[0;34m.\u001b[0m\u001b[0mfft\u001b[0m\u001b[0;34m.\u001b[0m\u001b[0mrfft\u001b[0m\u001b[0;34m(\u001b[0m\u001b[0my\u001b[0m\u001b[0;34m)\u001b[0m \u001b[0;32mfor\u001b[0m \u001b[0my\u001b[0m \u001b[0;32min\u001b[0m \u001b[0mpost_epoch\u001b[0m\u001b[0;34m]\u001b[0m\u001b[0;34m)\u001b[0m \u001b[0;31m# ... and each trial in E2\u001b[0m\u001b[0;34m\u001b[0m\u001b[0;34m\u001b[0m\u001b[0m\n\u001b[1;32m     38\u001b[0m \u001b[0;34m\u001b[0m\u001b[0m\n",
      "\u001b[0;32m~/anaconda3/envs/epi/lib/python3.6/site-packages/scipy/fft/_backend.py\u001b[0m in \u001b[0;36m__ua_function__\u001b[0;34m(method, args, kwargs)\u001b[0m\n\u001b[1;32m     21\u001b[0m         \u001b[0;32mif\u001b[0m \u001b[0mfn\u001b[0m \u001b[0;32mis\u001b[0m \u001b[0;32mNone\u001b[0m\u001b[0;34m:\u001b[0m\u001b[0;34m\u001b[0m\u001b[0;34m\u001b[0m\u001b[0m\n\u001b[1;32m     22\u001b[0m             \u001b[0;32mreturn\u001b[0m \u001b[0mNotImplemented\u001b[0m\u001b[0;34m\u001b[0m\u001b[0;34m\u001b[0m\u001b[0m\n\u001b[0;32m---> 23\u001b[0;31m         \u001b[0;32mreturn\u001b[0m \u001b[0mfn\u001b[0m\u001b[0;34m(\u001b[0m\u001b[0;34m*\u001b[0m\u001b[0margs\u001b[0m\u001b[0;34m,\u001b[0m \u001b[0;34m**\u001b[0m\u001b[0mkwargs\u001b[0m\u001b[0;34m)\u001b[0m\u001b[0;34m\u001b[0m\u001b[0;34m\u001b[0m\u001b[0m\n\u001b[0m\u001b[1;32m     24\u001b[0m \u001b[0;34m\u001b[0m\u001b[0m\n\u001b[1;32m     25\u001b[0m \u001b[0;34m\u001b[0m\u001b[0m\n",
      "\u001b[0;32m~/anaconda3/envs/epi/lib/python3.6/site-packages/scipy/fft/_pocketfft/basic.py\u001b[0m in \u001b[0;36mr2c\u001b[0;34m(forward, x, n, axis, norm, overwrite_x, workers, plan)\u001b[0m\n\u001b[1;32m     55\u001b[0m     \u001b[0;32mif\u001b[0m \u001b[0mn\u001b[0m \u001b[0;32mis\u001b[0m \u001b[0;32mnot\u001b[0m \u001b[0;32mNone\u001b[0m\u001b[0;34m:\u001b[0m\u001b[0;34m\u001b[0m\u001b[0;34m\u001b[0m\u001b[0m\n\u001b[1;32m     56\u001b[0m         \u001b[0mtmp\u001b[0m\u001b[0;34m,\u001b[0m \u001b[0m_\u001b[0m \u001b[0;34m=\u001b[0m \u001b[0m_fix_shape_1d\u001b[0m\u001b[0;34m(\u001b[0m\u001b[0mtmp\u001b[0m\u001b[0;34m,\u001b[0m \u001b[0mn\u001b[0m\u001b[0;34m,\u001b[0m \u001b[0maxis\u001b[0m\u001b[0;34m)\u001b[0m\u001b[0;34m\u001b[0m\u001b[0;34m\u001b[0m\u001b[0m\n\u001b[0;32m---> 57\u001b[0;31m     \u001b[0;32melif\u001b[0m \u001b[0mtmp\u001b[0m\u001b[0;34m.\u001b[0m\u001b[0mshape\u001b[0m\u001b[0;34m[\u001b[0m\u001b[0maxis\u001b[0m\u001b[0;34m]\u001b[0m \u001b[0;34m<\u001b[0m \u001b[0;36m1\u001b[0m\u001b[0;34m:\u001b[0m\u001b[0;34m\u001b[0m\u001b[0;34m\u001b[0m\u001b[0m\n\u001b[0m\u001b[1;32m     58\u001b[0m         raise ValueError(\"invalid number of data points ({0}) specified\"\n\u001b[1;32m     59\u001b[0m                          .format(tmp.shape[axis]))\n",
      "\u001b[0;31mIndexError\u001b[0m: tuple index out of range"
     ]
    }
   ],
   "source": [
    "times = np.linspace(-500, 1000, num = 1501)\n",
    "dt = times[1] - times[0]                     #sampling interval\n",
    "T = times[-1]                                #total time of the recording.\n",
    "N = 1501                                     #number of sample points per trial\n",
    "scale = 2 * dt**2 / T                        #scaling constant\n",
    "\n",
    "#for i in len(df_patient_info['channel_name']):\n",
    "i=0\n",
    "ch = df_patient_info.loc[i,'channel_name']\n",
    "ch_site = df_patient_info.loc[i,'recording_site']\n",
    "epochs = np.load(f'{top_dir}/anastasia/output/02-epochs/broadband_2_sec_mean_filter/{patient_id}_epochs_channel-{ch}_broadband.npy')\n",
    "\n",
    "#numbers here come from computing the spectrogram\n",
    "ps_pre = np.zeros((len(all_stim),65,22))\n",
    "ps_post = np.zeros((len(all_stim),65,22))\n",
    "\n",
    "#for st in all_stim:\n",
    "st=0\n",
    "pre = df_stim_info.loc[(df_stim_info['position']=='pre') & (df_stim_info['stim_id']==st)]\n",
    "pre = pre.reset_index(drop=True)\n",
    "post = df_stim_info.loc[(df_stim_info['position']=='post') & (df_stim_info['stim_id']==st)]\n",
    "pre_index = np.array(pre['stim_index'])\n",
    "post_index = np.array(post['stim_index'])\n",
    "\n",
    "pre_sp_array = np.zeros((len(pre_index),65,49))\n",
    "post_sp_array = np.zeros((len(post_index),65,49))\n",
    "for i in range(len(pre_index)):\n",
    "    pre_epoch = epochs[pre_index[i], 500:]\n",
    "    post_epoch = epochs[post_index[i], 500:]\n",
    "    \n",
    "    #Spectrogram\n",
    "    #freq_pre,time_pre,pwr_pre = scipy.signal.spectrogram(pre_epoch,fs_downs, window='hanning', nperseg=50, nfft=128, noverlap=20, detrend=False, scaling='density', mode='psd')\n",
    "    #freq_post,time_post,pwr_post = scipy.signal.spectrogram(post_epoch,fs_downs, window='hanning', nperseg=50, nfft=128, noverlap=20, detrend=False, scaling='density', mode='psd')\n",
    "    \n",
    "    # Compute the Fourier transforms\n",
    "    xf = np.array([scipy.fft.rfft(x) for x in pre_epoch]) # ... for each trial in E1\n",
    "    yf = np.array([scipy.fft.rfft(y) for y in post_epoch]) # ... and each trial in E2\n",
    "    \n",
    "    # Compute the spectra\n",
    "    Sxx = scale * (xf * xf.conj()).mean(0)       # Spectrum of E1 trials\n",
    "    Syy = scale * (yf * yf.conj()).mean(0)       # ... and E2 trials\n",
    "    Sxy = scale * (xf * yf.conj()).mean(0)       # ... and the cross spectrum\n",
    "    \n",
    "    #pre_sp_array[i,:,:] = pwr_pre\n",
    "    #post_sp_array[i,:,:] = pwr_post\n",
    "    \n",
    "    # Compute the coherence.\n",
    "    cohr = abs(Sxy) / (sqrt(Sxx) * sqrt(Syy))\n",
    "\n",
    "f = scipy.fft.rfftfreq(N, dt)                # Define a frequency axis.\n",
    "plot(f, cohr.real)                           # Plot coherence vs frequency,\n",
    "xlim([0, 50])                                # ... in a chosen frequency range,\n",
    "ylim([0, 1])                                 # ... with y-axis scaled,\n",
    "xlabel('Frequency [Hz]')                     # ... and with axes labeled.\n",
    "ylabel('Coherence')\n",
    "title('Coherence between two electrodes')\n",
    "show()\n",
    "\n",
    "#NOTE that freq_pre and freq_post arrays are identical\n",
    "\n",
    "t = np.linspace(-500, 1000, time_pre.shape[0])\n",
    "\n",
    "current_stim_index = pre.loc[0,'stim_index']\n",
    "current_stim_name = pre.loc[0,'stim_name']\n",
    "current_stim_paradigm = pre.loc[0,'paradigm']"
   ]
  },
  {
   "cell_type": "code",
   "execution_count": null,
   "metadata": {},
   "outputs": [],
   "source": []
  }
 ],
 "metadata": {
  "kernelspec": {
   "display_name": "Python 3",
   "language": "python",
   "name": "python3"
  },
  "language_info": {
   "codemirror_mode": {
    "name": "ipython",
    "version": 3
   },
   "file_extension": ".py",
   "mimetype": "text/x-python",
   "name": "python",
   "nbconvert_exporter": "python",
   "pygments_lexer": "ipython3",
   "version": "3.6.10"
  }
 },
 "nbformat": 4,
 "nbformat_minor": 4
}
