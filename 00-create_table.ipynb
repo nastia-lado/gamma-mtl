{
 "cells": [
  {
   "cell_type": "code",
   "execution_count": null,
   "metadata": {},
   "outputs": [],
   "source": [
    "#Create table\n",
    "# subj, session, chanel name (ncs file), recording site, name of area, single/multi unit, sampling freq, stat...\n",
    "#the table is used in the future analysis"
   ]
  },
  {
   "cell_type": "code",
   "execution_count": 2,
   "metadata": {},
   "outputs": [
    {
     "name": "stdout",
     "output_type": "stream",
     "text": [
      "config\n"
     ]
    },
    {
     "name": "stdin",
     "output_type": "stream",
     "text": [
      "Please enter DataJoint username:  root\n",
      "Please enter DataJoint password:  ···············\n"
     ]
    },
    {
     "name": "stdout",
     "output_type": "stream",
     "text": [
      "Connecting root@localhost:3306\n",
      "Epiphyte Setup\n"
     ]
    }
   ],
   "source": [
    "import database.neuralynx_extract.combinato_tools as ct\n",
    "import database.neuralynx_extract.nlxio as nlxio\n",
    "\n",
    "import preprocessing.data_preprocessing.refractor_utils as ru\n",
    "import sys\n",
    "import glob\n",
    "import os\n",
    "\n",
    "import matplotlib.pyplot as plt\n",
    "import datajoint as dj\n",
    "import scipy as sp\n",
    "import natsort as ns\n",
    "\n",
    "# Local application imports \n",
    "from database.db_setup import *\n",
    "import preprocessing.data_preprocessing.binning as binning\n",
    "import preprocessing.data_preprocessing.create_vectors_from_time_points as create"
   ]
  },
  {
   "cell_type": "code",
   "execution_count": 3,
   "metadata": {},
   "outputs": [],
   "source": [
    "top_dir = '/home/anastasia/epiphyte'\n",
    "\n",
    "columns = ['patient_id', 'session', 'channel_name', 'recording_site', 'brain_area', 'unit_type', 'sampling_freq']\n",
    "\n",
    "ba_dict = {'LA': 'left amygdala', 'LAH': 'left anterior hippocampus', 'LMH': 'left medial hippocampus', 'LEC': 'left entorhinal cortex',\n",
    "        'LPHC': 'left parahippocampal cortex', 'RA': 'right amygdala', 'RAH': 'right anterior hippocampus', 'RMH': 'right medial hippocampus',\n",
    "        'REC': 'right entorhinal cortex', 'RPHC': 'right parahippocampal cortex', 'RAPH':'right anterior parahippocampus',\n",
    "        'RMPH':'right medial parahippocampus', 'RPPH': 'right posterior parahippocampus'}"
   ]
  },
  {
   "cell_type": "code",
   "execution_count": 4,
   "metadata": {},
   "outputs": [],
   "source": [
    "patient_id = '53'\n",
    "ses = 1\n",
    "#get all .ncs files per subj\n",
    "ncs_path_list = []\n",
    "for file in glob.glob(f'{top_dir}/lfp_data/{patient_id}/*.ncs'): #change 46 to sub in a for loop\n",
    "    ncs_path_list.append(file)\n",
    "\n",
    "#for each subject here we know the numb of channels so we can preallocate a df for each subj and then merge with the original one\n",
    "\n",
    "df = pd.DataFrame(columns=columns, index=range(len(ncs_path_list)))\n",
    "#fill in subj\n",
    "df['patient_id'] = patient_id\n",
    "df['session'] = ses\n",
    "\n",
    "# Specify the file path for a given .ncs file\n",
    "for i in range(len(ncs_path_list)):\n",
    "    ncs_path = ncs_path_list[i]\n",
    "    #instead: get_cscs_for_patient(patient_id, session_nr)\n",
    "    # Create the ncsobj, which pulls and structures the information from the ncs file \n",
    "    ncsobj = ct.ExtractNcsFile(ncs_path)\n",
    "\n",
    "    # Get header info\n",
    "    ncs_header = nlxio.ncs_info(ncs_path)\n",
    "\n",
    "    #fill in df\n",
    "    temp = ElectrodeUnit()\n",
    "    df.loc[i,'channel_name'] = ncs_path_list[i][37:-4]\n",
    "    df.loc[i,'sampling_freq'] = ncs_header['SamplingFrequency']\n",
    "    df.loc[i,'recording_site'] = ncs_header['AcqEntName']\n",
    "    df.loc[i,'brain_area'] = ncs_header['AcqEntName']\n",
    "df['brain_area'] = df['brain_area'].str[:-1]\n",
    "df['brain_area'] = df['brain_area'].map(ba_dict)\n",
    "\n",
    "#to solve the issue with names in ch_name\n",
    "df['channel_name'] = pd.Categorical(df['channel_name'], ordered=True, categories= ns.natsorted(df['channel_name'].unique()))    \n",
    "df = df.sort_values('channel_name')\n",
    "df.to_csv(f'{top_dir}/anastasia/output/{patient_id}_channel_info.csv')"
   ]
  },
  {
   "cell_type": "code",
   "execution_count": null,
   "metadata": {},
   "outputs": [],
   "source": []
  }
 ],
 "metadata": {
  "kernelspec": {
   "display_name": "Python 3",
   "language": "python",
   "name": "python3"
  },
  "language_info": {
   "codemirror_mode": {
    "name": "ipython",
    "version": 3
   },
   "file_extension": ".py",
   "mimetype": "text/x-python",
   "name": "python",
   "nbconvert_exporter": "python",
   "pygments_lexer": "ipython3",
   "version": "3.6.10"
  }
 },
 "nbformat": 4,
 "nbformat_minor": 4
}
